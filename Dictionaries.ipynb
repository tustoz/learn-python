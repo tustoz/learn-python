{
 "cells": [
  {
   "cell_type": "code",
   "execution_count": 1,
   "metadata": {},
   "outputs": [],
   "source": [
    "d = {}\n",
    "d['George'] = 24\n",
    "d['Tom'] = 22\n",
    "d['Tustoz'] = 19"
   ]
  },
  {
   "cell_type": "code",
   "execution_count": 2,
   "metadata": {},
   "outputs": [
    {
     "name": "stdout",
     "output_type": "stream",
     "text": [
      "24\n",
      "22\n",
      "19\n"
     ]
    }
   ],
   "source": [
    "print(d['George'])\n",
    "print(d['Tom'])\n",
    "print(d['Tustoz'])"
   ]
  },
  {
   "cell_type": "code",
   "execution_count": 3,
   "metadata": {},
   "outputs": [],
   "source": [
    "d[10] = 100"
   ]
  },
  {
   "cell_type": "code",
   "execution_count": 4,
   "metadata": {},
   "outputs": [
    {
     "name": "stdout",
     "output_type": "stream",
     "text": [
      "100\n"
     ]
    }
   ],
   "source": [
    "print(d[10])"
   ]
  },
  {
   "cell_type": "code",
   "execution_count": 5,
   "metadata": {},
   "outputs": [
    {
     "name": "stdout",
     "output_type": "stream",
     "text": [
      "key: \n",
      "George\n",
      "value: \n",
      "24\n",
      "\n",
      "key: \n",
      "Tom\n",
      "value: \n",
      "22\n",
      "\n",
      "key: \n",
      "Tustoz\n",
      "value: \n",
      "19\n",
      "\n",
      "key: \n",
      "10\n",
      "value: \n",
      "100\n",
      "\n"
     ]
    }
   ],
   "source": [
    "for key, value in d.items():\n",
    "    print('key: ')\n",
    "    print(key)\n",
    "    print('value: ')\n",
    "    print(value)\n",
    "    print(\"\")"
   ]
  }
 ],
 "metadata": {
  "kernelspec": {
   "display_name": "Python 3",
   "language": "python",
   "name": "python3"
  },
  "language_info": {
   "codemirror_mode": {
    "name": "ipython",
    "version": 3
   },
   "file_extension": ".py",
   "mimetype": "text/x-python",
   "name": "python",
   "nbconvert_exporter": "python",
   "pygments_lexer": "ipython3",
   "version": "3.8.3"
  }
 },
 "nbformat": 4,
 "nbformat_minor": 4
}
