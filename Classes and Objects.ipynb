{
 "cells": [
  {
   "cell_type": "code",
   "execution_count": 1,
   "metadata": {},
   "outputs": [],
   "source": [
    "class Car:\n",
    "    def __init__(self, n, c, w):\n",
    "        self.name = n\n",
    "        self.color = c\n",
    "        self.weight = w\n",
    "    \n",
    "    def introduce_self(self):\n",
    "        print(\"My name is \" + self.name)\n",
    "        print(\"My color is \" + self.color)"
   ]
  },
  {
   "cell_type": "code",
   "execution_count": 2,
   "metadata": {},
   "outputs": [],
   "source": [
    "c = Car(\"Suzuki\",\"white\",20)\n",
    "c2 = Car(\"Inova\",\"red\",30)"
   ]
  },
  {
   "cell_type": "code",
   "execution_count": 3,
   "metadata": {},
   "outputs": [
    {
     "name": "stdout",
     "output_type": "stream",
     "text": [
      "My name is Suzuki\n",
      "My color is white\n",
      "My name is Inova\n",
      "My color is red\n"
     ]
    }
   ],
   "source": [
    "c.introduce_self()\n",
    "c2.introduce_self()"
   ]
  },
  {
   "cell_type": "code",
   "execution_count": 4,
   "metadata": {},
   "outputs": [],
   "source": [
    "class Person:\n",
    "    def __init__(self, n, p, i):\n",
    "        self.name = n\n",
    "        self.personality = p\n",
    "        self.is_sitting = i\n",
    "    \n",
    "    def sit_down(self):\n",
    "        self.is_sitting = True\n",
    "    \n",
    "    def stand_up(self):\n",
    "        self.is_sitting = False"
   ]
  },
  {
   "cell_type": "code",
   "execution_count": 5,
   "metadata": {},
   "outputs": [],
   "source": [
    "p1 = Person(\"Tustoz\",\"talkative\",True)\n",
    "p2 = Person(\"Alice\",\"aggressive\",False)"
   ]
  },
  {
   "cell_type": "code",
   "execution_count": 6,
   "metadata": {},
   "outputs": [],
   "source": [
    "p1.car_owned = c\n",
    "p2.car_owned = c2"
   ]
  },
  {
   "cell_type": "code",
   "execution_count": 7,
   "metadata": {},
   "outputs": [
    {
     "name": "stdout",
     "output_type": "stream",
     "text": [
      "My name is Suzuki\n",
      "My color is white\n",
      "My name is Inova\n",
      "My color is red\n"
     ]
    }
   ],
   "source": [
    "p1.car_owned.introduce_self()\n",
    "p2.car_owned.introduce_self()"
   ]
  }
 ],
 "metadata": {
  "kernelspec": {
   "display_name": "Python 3",
   "language": "python",
   "name": "python3"
  },
  "language_info": {
   "codemirror_mode": {
    "name": "ipython",
    "version": 3
   },
   "file_extension": ".py",
   "mimetype": "text/x-python",
   "name": "python",
   "nbconvert_exporter": "python",
   "pygments_lexer": "ipython3",
   "version": "3.8.3"
  }
 },
 "nbformat": 4,
 "nbformat_minor": 4
}
